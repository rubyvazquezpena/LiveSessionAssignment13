{
 "cells": [
  {
   "cell_type": "code",
   "execution_count": 2,
   "metadata": {
    "collapsed": false
   },
   "outputs": [
    {
     "name": "stdout",
     "output_type": "stream",
     "text": [
      "45.4\n",
      "47.4\n",
      "45.8\n",
      "55.2\n"
     ]
    },
    {
     "name": "stderr",
     "output_type": "stream",
     "text": [
      "//anaconda/lib/python2.7/site-packages/pandas/tools/plotting.py:3082: FutureWarning: \n",
      "The default value for 'return_type' will change to 'axes' in a future release.\n",
      " To use the future behavior now, set return_type='axes'.\n",
      " To keep the previous behavior and silence this warning, set return_type='dict'.\n",
      "  rot=rot, grid=grid, **kwds)\n"
     ]
    },
    {
     "data": {
      "text/plain": [
       "<seaborn.axisgrid.PairGrid at 0x111a86490>"
      ]
     },
     "execution_count": 2,
     "metadata": {},
     "output_type": "execute_result"
    }
   ],
   "source": [
    "#!/usr/bin/env python2\n",
    "# -*- coding: utf-8 -*-\n",
    "\"\"\"\n",
    "Created on Mon Nov 28 18:03:41 2016\n",
    "\n",
    "@author: rubyvazquez\n",
    "\"\"\"\n",
    "#1.\tCreate a list named my_list in python with the following data points \n",
    "my_list = [45.4, 44.2, 36.8, 35.1, 39.0, 60.0, 47.4, 41.1, 45.8, 35.6]\n",
    "#a.\tPrint the 5th element in the list\n",
    "my_list[4]\n",
    "#b.\tAppend 55.2 to my_list\n",
    "my_list.append(55.2)\n",
    "#c.\tRemove the 6th element in the list\n",
    "my_list.pop(5)\n",
    "#d.\tIterate over the list to print data points greater than 45\n",
    "for i in range(0,10):\n",
    "    if my_list[i]>45:\n",
    "        print(my_list[i])\n",
    "#2.\tIntroduction to numpy – \n",
    "#a.\tImport the numpy library using the following command\n",
    "import numpy\n",
    "#b.\tDeclare numpy array with the same data points as in my_list using\n",
    "numpy.array(my_list)\n",
    "#c.\tCompute the mean and standard deviation using \n",
    "numpy.mean(my_list)\n",
    "numpy.std(my_list) \n",
    "#d.\tUse logical referencing to get only those values that are less than 45\n",
    "result = []\n",
    "for i in range(0,10):\n",
    "    result.append(my_list[i]<45)\n",
    "    \n",
    "result = numpy.array(result)\n",
    "mylist = numpy.array(my_list)\n",
    "mylist[result]\n",
    "#e.\tCompute the max and min of the array using\n",
    "numpy.max(my_list)\n",
    "numpy.min(my_list)\n",
    "#3.\tIntroduction to pandas – \n",
    "#a.\tImport the pandas library – \n",
    "import pandas\n",
    "#b.\tRead the IRIS dataset into iris using pandas.read_csv()\n",
    "iris = pandas.read_csv(\"/Users/rubyvazquez/Desktop/SMU/Doing Data Science/Unit 11/iris.csv\")\n",
    "#c.\tUsing iris.head(), display the head of the dataset\n",
    "iris.head()\n",
    "#d.\tUse DataFrame.drop() to drop the id column\n",
    "iris = iris.drop('Id', 1) \n",
    "#e.\tSubset dataframe to create a new data frame that includes only the measurements for the setosa species\n",
    "iris1 = iris.query('Species == \"Iris-setosa\"')\n",
    "#f.\tUse DataFrame.describe() to get the summary statistics\n",
    "iris.describe()\n",
    "#g.\tUse DataFrame.groupby() to create grouped data frames by Species and compute summary statistics using DataFrame.describe()\n",
    "iris.groupby(['Species']).describe()\n",
    "#h.\tUse DataFrame.boxplot() to plot boxplots by Species\n",
    "iris.groupby(['Species']).boxplot()\n",
    "\n",
    "#i.\tPlot a scatter matrix plot using the seaborn library. Use the following to load and plot \n",
    "import seaborn as sns\n",
    "sns.pairplot(iris,hue='Species')"
   ]
  }
 ],
 "metadata": {
  "anaconda-cloud": {},
  "kernelspec": {
   "display_name": "Python [conda root]",
   "language": "python",
   "name": "conda-root-py"
  },
  "language_info": {
   "codemirror_mode": {
    "name": "ipython",
    "version": 2
   },
   "file_extension": ".py",
   "mimetype": "text/x-python",
   "name": "python",
   "nbconvert_exporter": "python",
   "pygments_lexer": "ipython2",
   "version": "2.7.12"
  }
 },
 "nbformat": 4,
 "nbformat_minor": 1
}
